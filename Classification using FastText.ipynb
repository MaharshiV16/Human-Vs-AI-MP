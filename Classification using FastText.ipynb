{
 "cells": [
  {
   "cell_type": "code",
   "execution_count": 20,
   "id": "21e03c62-5ca1-49ed-a328-bb4bd133a433",
   "metadata": {},
   "outputs": [
    {
     "data": {
      "text/html": [
       "<div>\n",
       "<style scoped>\n",
       "    .dataframe tbody tr th:only-of-type {\n",
       "        vertical-align: middle;\n",
       "    }\n",
       "\n",
       "    .dataframe tbody tr th {\n",
       "        vertical-align: top;\n",
       "    }\n",
       "\n",
       "    .dataframe thead th {\n",
       "        text-align: right;\n",
       "    }\n",
       "</style>\n",
       "<table border=\"1\" class=\"dataframe\">\n",
       "  <thead>\n",
       "    <tr style=\"text-align: right;\">\n",
       "      <th></th>\n",
       "      <th>Unnamed: 0</th>\n",
       "      <th>sentence</th>\n",
       "      <th>class</th>\n",
       "    </tr>\n",
       "  </thead>\n",
       "  <tbody>\n",
       "    <tr>\n",
       "      <th>0</th>\n",
       "      <td>0</td>\n",
       "      <td>NLP is a multidisciplinary field that draws fr...</td>\n",
       "      <td>0</td>\n",
       "    </tr>\n",
       "    <tr>\n",
       "      <th>1</th>\n",
       "      <td>1</td>\n",
       "      <td>In terms of linguistics, a program must be abl...</td>\n",
       "      <td>0</td>\n",
       "    </tr>\n",
       "    <tr>\n",
       "      <th>2</th>\n",
       "      <td>2</td>\n",
       "      <td>Of course each language has its own forms of a...</td>\n",
       "      <td>0</td>\n",
       "    </tr>\n",
       "    <tr>\n",
       "      <th>3</th>\n",
       "      <td>3</td>\n",
       "      <td>Programs can use several strategies for dealin...</td>\n",
       "      <td>0</td>\n",
       "    </tr>\n",
       "    <tr>\n",
       "      <th>4</th>\n",
       "      <td>4</td>\n",
       "      <td>As formidable as the task of extracting the co...</td>\n",
       "      <td>0</td>\n",
       "    </tr>\n",
       "  </tbody>\n",
       "</table>\n",
       "</div>"
      ],
      "text/plain": [
       "   Unnamed: 0                                           sentence  class\n",
       "0           0  NLP is a multidisciplinary field that draws fr...      0\n",
       "1           1  In terms of linguistics, a program must be abl...      0\n",
       "2           2  Of course each language has its own forms of a...      0\n",
       "3           3  Programs can use several strategies for dealin...      0\n",
       "4           4  As formidable as the task of extracting the co...      0"
      ]
     },
     "execution_count": 20,
     "metadata": {},
     "output_type": "execute_result"
    }
   ],
   "source": [
    "import pandas as pd\n",
    "\n",
    "#reading the dataset\n",
    "df = pd.read_csv(\"dataset_0HB-1AI.csv\")\n",
    "df.head()"
   ]
  },
  {
   "cell_type": "code",
   "execution_count": 21,
   "id": "8911704e-8f21-4871-9a30-fcec061e6f03",
   "metadata": {},
   "outputs": [
    {
     "data": {
      "text/plain": [
       "(7344, 3)"
      ]
     },
     "execution_count": 21,
     "metadata": {},
     "output_type": "execute_result"
    }
   ],
   "source": [
    "# The class column represents the classification of the text in our dataset as Human (0) of AI (1)\n",
    "\n",
    "df.shape"
   ]
  },
  {
   "cell_type": "code",
   "execution_count": 22,
   "id": "89ec5187-4cae-477c-8828-619c088bdc37",
   "metadata": {},
   "outputs": [
    {
     "data": {
      "text/plain": [
       "class\n",
       "1    4008\n",
       "0    3336\n",
       "Name: count, dtype: int64"
      ]
     },
     "execution_count": 22,
     "metadata": {},
     "output_type": "execute_result"
    }
   ],
   "source": [
    "# To check for class imbalance\n",
    "\n",
    "df['class'].value_counts()"
   ]
  },
  {
   "cell_type": "code",
   "execution_count": 23,
   "id": "bea9dad0-b4f0-45da-8705-61afbaaa63ea",
   "metadata": {},
   "outputs": [],
   "source": [
    "df['label'] = df['class'].map({0 : \"Human\", 1 : \"AI\"})"
   ]
  },
  {
   "cell_type": "code",
   "execution_count": 24,
   "id": "396a6cee-1564-4761-94fa-bfb096c645b4",
   "metadata": {},
   "outputs": [
    {
     "data": {
      "text/html": [
       "<div>\n",
       "<style scoped>\n",
       "    .dataframe tbody tr th:only-of-type {\n",
       "        vertical-align: middle;\n",
       "    }\n",
       "\n",
       "    .dataframe tbody tr th {\n",
       "        vertical-align: top;\n",
       "    }\n",
       "\n",
       "    .dataframe thead th {\n",
       "        text-align: right;\n",
       "    }\n",
       "</style>\n",
       "<table border=\"1\" class=\"dataframe\">\n",
       "  <thead>\n",
       "    <tr style=\"text-align: right;\">\n",
       "      <th></th>\n",
       "      <th>Unnamed: 0</th>\n",
       "      <th>sentence</th>\n",
       "      <th>class</th>\n",
       "      <th>label</th>\n",
       "    </tr>\n",
       "  </thead>\n",
       "  <tbody>\n",
       "    <tr>\n",
       "      <th>0</th>\n",
       "      <td>0</td>\n",
       "      <td>NLP is a multidisciplinary field that draws fr...</td>\n",
       "      <td>0</td>\n",
       "      <td>Human</td>\n",
       "    </tr>\n",
       "    <tr>\n",
       "      <th>1</th>\n",
       "      <td>1</td>\n",
       "      <td>In terms of linguistics, a program must be abl...</td>\n",
       "      <td>0</td>\n",
       "      <td>Human</td>\n",
       "    </tr>\n",
       "    <tr>\n",
       "      <th>2</th>\n",
       "      <td>2</td>\n",
       "      <td>Of course each language has its own forms of a...</td>\n",
       "      <td>0</td>\n",
       "      <td>Human</td>\n",
       "    </tr>\n",
       "    <tr>\n",
       "      <th>3</th>\n",
       "      <td>3</td>\n",
       "      <td>Programs can use several strategies for dealin...</td>\n",
       "      <td>0</td>\n",
       "      <td>Human</td>\n",
       "    </tr>\n",
       "    <tr>\n",
       "      <th>4</th>\n",
       "      <td>4</td>\n",
       "      <td>As formidable as the task of extracting the co...</td>\n",
       "      <td>0</td>\n",
       "      <td>Human</td>\n",
       "    </tr>\n",
       "  </tbody>\n",
       "</table>\n",
       "</div>"
      ],
      "text/plain": [
       "   Unnamed: 0                                           sentence  class  label\n",
       "0           0  NLP is a multidisciplinary field that draws fr...      0  Human\n",
       "1           1  In terms of linguistics, a program must be abl...      0  Human\n",
       "2           2  Of course each language has its own forms of a...      0  Human\n",
       "3           3  Programs can use several strategies for dealin...      0  Human\n",
       "4           4  As formidable as the task of extracting the co...      0  Human"
      ]
     },
     "execution_count": 24,
     "metadata": {},
     "output_type": "execute_result"
    }
   ],
   "source": [
    "df.head()"
   ]
  },
  {
   "cell_type": "code",
   "execution_count": 25,
   "id": "6a62d6ae-4545-4e09-b500-498f68347812",
   "metadata": {},
   "outputs": [
    {
     "data": {
      "text/html": [
       "<div>\n",
       "<style scoped>\n",
       "    .dataframe tbody tr th:only-of-type {\n",
       "        vertical-align: middle;\n",
       "    }\n",
       "\n",
       "    .dataframe tbody tr th {\n",
       "        vertical-align: top;\n",
       "    }\n",
       "\n",
       "    .dataframe thead th {\n",
       "        text-align: right;\n",
       "    }\n",
       "</style>\n",
       "<table border=\"1\" class=\"dataframe\">\n",
       "  <thead>\n",
       "    <tr style=\"text-align: right;\">\n",
       "      <th></th>\n",
       "      <th>Unnamed: 0</th>\n",
       "      <th>sentence</th>\n",
       "      <th>class</th>\n",
       "      <th>label</th>\n",
       "    </tr>\n",
       "  </thead>\n",
       "  <tbody>\n",
       "    <tr>\n",
       "      <th>0</th>\n",
       "      <td>0</td>\n",
       "      <td>NLP is a multidisciplinary field that draws fr...</td>\n",
       "      <td>0</td>\n",
       "      <td>__label__Human</td>\n",
       "    </tr>\n",
       "    <tr>\n",
       "      <th>1</th>\n",
       "      <td>1</td>\n",
       "      <td>In terms of linguistics, a program must be abl...</td>\n",
       "      <td>0</td>\n",
       "      <td>__label__Human</td>\n",
       "    </tr>\n",
       "    <tr>\n",
       "      <th>2</th>\n",
       "      <td>2</td>\n",
       "      <td>Of course each language has its own forms of a...</td>\n",
       "      <td>0</td>\n",
       "      <td>__label__Human</td>\n",
       "    </tr>\n",
       "    <tr>\n",
       "      <th>3</th>\n",
       "      <td>3</td>\n",
       "      <td>Programs can use several strategies for dealin...</td>\n",
       "      <td>0</td>\n",
       "      <td>__label__Human</td>\n",
       "    </tr>\n",
       "    <tr>\n",
       "      <th>4</th>\n",
       "      <td>4</td>\n",
       "      <td>As formidable as the task of extracting the co...</td>\n",
       "      <td>0</td>\n",
       "      <td>__label__Human</td>\n",
       "    </tr>\n",
       "  </tbody>\n",
       "</table>\n",
       "</div>"
      ],
      "text/plain": [
       "   Unnamed: 0                                           sentence  class  \\\n",
       "0           0  NLP is a multidisciplinary field that draws fr...      0   \n",
       "1           1  In terms of linguistics, a program must be abl...      0   \n",
       "2           2  Of course each language has its own forms of a...      0   \n",
       "3           3  Programs can use several strategies for dealin...      0   \n",
       "4           4  As formidable as the task of extracting the co...      0   \n",
       "\n",
       "            label  \n",
       "0  __label__Human  \n",
       "1  __label__Human  \n",
       "2  __label__Human  \n",
       "3  __label__Human  \n",
       "4  __label__Human  "
      ]
     },
     "execution_count": 25,
     "metadata": {},
     "output_type": "execute_result"
    }
   ],
   "source": [
    "# fasttext required __label__ as a prefix\n",
    "df['label'] = \"__label__\" + df['label'].astype(str)\n",
    "df.head()"
   ]
  },
  {
   "cell_type": "code",
   "execution_count": 26,
   "id": "d8a891fd-2252-4274-a20a-84910310be28",
   "metadata": {},
   "outputs": [
    {
     "data": {
      "text/html": [
       "<div>\n",
       "<style scoped>\n",
       "    .dataframe tbody tr th:only-of-type {\n",
       "        vertical-align: middle;\n",
       "    }\n",
       "\n",
       "    .dataframe tbody tr th {\n",
       "        vertical-align: top;\n",
       "    }\n",
       "\n",
       "    .dataframe thead th {\n",
       "        text-align: right;\n",
       "    }\n",
       "</style>\n",
       "<table border=\"1\" class=\"dataframe\">\n",
       "  <thead>\n",
       "    <tr style=\"text-align: right;\">\n",
       "      <th></th>\n",
       "      <th>Unnamed: 0</th>\n",
       "      <th>sentence</th>\n",
       "      <th>class</th>\n",
       "      <th>label</th>\n",
       "      <th>label_sentence</th>\n",
       "    </tr>\n",
       "  </thead>\n",
       "  <tbody>\n",
       "    <tr>\n",
       "      <th>0</th>\n",
       "      <td>0</td>\n",
       "      <td>NLP is a multidisciplinary field that draws fr...</td>\n",
       "      <td>0</td>\n",
       "      <td>__label__Human</td>\n",
       "      <td>__label__Human NLP is a multidisciplinary fiel...</td>\n",
       "    </tr>\n",
       "    <tr>\n",
       "      <th>1</th>\n",
       "      <td>1</td>\n",
       "      <td>In terms of linguistics, a program must be abl...</td>\n",
       "      <td>0</td>\n",
       "      <td>__label__Human</td>\n",
       "      <td>__label__Human In terms of linguistics, a prog...</td>\n",
       "    </tr>\n",
       "    <tr>\n",
       "      <th>2</th>\n",
       "      <td>2</td>\n",
       "      <td>Of course each language has its own forms of a...</td>\n",
       "      <td>0</td>\n",
       "      <td>__label__Human</td>\n",
       "      <td>__label__Human Of course each language has its...</td>\n",
       "    </tr>\n",
       "    <tr>\n",
       "      <th>3</th>\n",
       "      <td>3</td>\n",
       "      <td>Programs can use several strategies for dealin...</td>\n",
       "      <td>0</td>\n",
       "      <td>__label__Human</td>\n",
       "      <td>__label__Human Programs can use several strate...</td>\n",
       "    </tr>\n",
       "    <tr>\n",
       "      <th>4</th>\n",
       "      <td>4</td>\n",
       "      <td>As formidable as the task of extracting the co...</td>\n",
       "      <td>0</td>\n",
       "      <td>__label__Human</td>\n",
       "      <td>__label__Human As formidable as the task of ex...</td>\n",
       "    </tr>\n",
       "  </tbody>\n",
       "</table>\n",
       "</div>"
      ],
      "text/plain": [
       "   Unnamed: 0                                           sentence  class  \\\n",
       "0           0  NLP is a multidisciplinary field that draws fr...      0   \n",
       "1           1  In terms of linguistics, a program must be abl...      0   \n",
       "2           2  Of course each language has its own forms of a...      0   \n",
       "3           3  Programs can use several strategies for dealin...      0   \n",
       "4           4  As formidable as the task of extracting the co...      0   \n",
       "\n",
       "            label                                     label_sentence  \n",
       "0  __label__Human  __label__Human NLP is a multidisciplinary fiel...  \n",
       "1  __label__Human  __label__Human In terms of linguistics, a prog...  \n",
       "2  __label__Human  __label__Human Of course each language has its...  \n",
       "3  __label__Human  __label__Human Programs can use several strate...  \n",
       "4  __label__Human  __label__Human As formidable as the task of ex...  "
      ]
     },
     "execution_count": 26,
     "metadata": {},
     "output_type": "execute_result"
    }
   ],
   "source": [
    "df['label_sentence'] = df['label'] + ' ' + df['sentence']\n",
    "df.head()"
   ]
  },
  {
   "cell_type": "code",
   "execution_count": 27,
   "id": "d00b4431-f38f-4c44-86ac-f23bca5aa47e",
   "metadata": {},
   "outputs": [
    {
     "data": {
      "text/plain": [
       "\"viki's bookcase bookshelf 3 shelf shelve white hi\""
      ]
     },
     "execution_count": 27,
     "metadata": {},
     "output_type": "execute_result"
    }
   ],
   "source": [
    "#testing for regex\n",
    "\n",
    "import re\n",
    "\n",
    "text = \"  VIKI's | Bookcase/Bookshelf (3-Shelf/Shelve, White) | ? . hi\"\n",
    "text = re.sub(r'[^\\w\\s\\']',' ', text)\n",
    "text = re.sub(' +', ' ', text)\n",
    "text.strip().lower()"
   ]
  },
  {
   "cell_type": "code",
   "execution_count": 28,
   "id": "8940d6f0-db1a-42e0-a5e0-e4f91e1df942",
   "metadata": {},
   "outputs": [],
   "source": [
    "def preprocess(text):\n",
    "    text = re.sub(r'[^\\w\\s\\']',' ', text)\n",
    "    text = re.sub(' +', ' ', text)\n",
    "    return text.strip().lower() "
   ]
  },
  {
   "cell_type": "code",
   "execution_count": 29,
   "id": "a4aadbb6-293d-4399-8e97-18b22726927a",
   "metadata": {},
   "outputs": [
    {
     "data": {
      "text/html": [
       "<div>\n",
       "<style scoped>\n",
       "    .dataframe tbody tr th:only-of-type {\n",
       "        vertical-align: middle;\n",
       "    }\n",
       "\n",
       "    .dataframe tbody tr th {\n",
       "        vertical-align: top;\n",
       "    }\n",
       "\n",
       "    .dataframe thead th {\n",
       "        text-align: right;\n",
       "    }\n",
       "</style>\n",
       "<table border=\"1\" class=\"dataframe\">\n",
       "  <thead>\n",
       "    <tr style=\"text-align: right;\">\n",
       "      <th></th>\n",
       "      <th>Unnamed: 0</th>\n",
       "      <th>sentence</th>\n",
       "      <th>class</th>\n",
       "      <th>label</th>\n",
       "      <th>label_sentence</th>\n",
       "    </tr>\n",
       "  </thead>\n",
       "  <tbody>\n",
       "    <tr>\n",
       "      <th>0</th>\n",
       "      <td>0</td>\n",
       "      <td>NLP is a multidisciplinary field that draws fr...</td>\n",
       "      <td>0</td>\n",
       "      <td>__label__Human</td>\n",
       "      <td>__label__human nlp is a multidisciplinary fiel...</td>\n",
       "    </tr>\n",
       "    <tr>\n",
       "      <th>1</th>\n",
       "      <td>1</td>\n",
       "      <td>In terms of linguistics, a program must be abl...</td>\n",
       "      <td>0</td>\n",
       "      <td>__label__Human</td>\n",
       "      <td>__label__human in terms of linguistics a progr...</td>\n",
       "    </tr>\n",
       "    <tr>\n",
       "      <th>2</th>\n",
       "      <td>2</td>\n",
       "      <td>Of course each language has its own forms of a...</td>\n",
       "      <td>0</td>\n",
       "      <td>__label__Human</td>\n",
       "      <td>__label__human of course each language has its...</td>\n",
       "    </tr>\n",
       "    <tr>\n",
       "      <th>3</th>\n",
       "      <td>3</td>\n",
       "      <td>Programs can use several strategies for dealin...</td>\n",
       "      <td>0</td>\n",
       "      <td>__label__Human</td>\n",
       "      <td>__label__human programs can use several strate...</td>\n",
       "    </tr>\n",
       "    <tr>\n",
       "      <th>4</th>\n",
       "      <td>4</td>\n",
       "      <td>As formidable as the task of extracting the co...</td>\n",
       "      <td>0</td>\n",
       "      <td>__label__Human</td>\n",
       "      <td>__label__human as formidable as the task of ex...</td>\n",
       "    </tr>\n",
       "  </tbody>\n",
       "</table>\n",
       "</div>"
      ],
      "text/plain": [
       "   Unnamed: 0                                           sentence  class  \\\n",
       "0           0  NLP is a multidisciplinary field that draws fr...      0   \n",
       "1           1  In terms of linguistics, a program must be abl...      0   \n",
       "2           2  Of course each language has its own forms of a...      0   \n",
       "3           3  Programs can use several strategies for dealin...      0   \n",
       "4           4  As formidable as the task of extracting the co...      0   \n",
       "\n",
       "            label                                     label_sentence  \n",
       "0  __label__Human  __label__human nlp is a multidisciplinary fiel...  \n",
       "1  __label__Human  __label__human in terms of linguistics a progr...  \n",
       "2  __label__Human  __label__human of course each language has its...  \n",
       "3  __label__Human  __label__human programs can use several strate...  \n",
       "4  __label__Human  __label__human as formidable as the task of ex...  "
      ]
     },
     "execution_count": 29,
     "metadata": {},
     "output_type": "execute_result"
    }
   ],
   "source": [
    "df['label_sentence'] = df['label_sentence'].map(preprocess)\n",
    "df.head()"
   ]
  },
  {
   "cell_type": "code",
   "execution_count": 30,
   "id": "9c864c16-484b-4f78-8698-7eeba89b36cf",
   "metadata": {},
   "outputs": [],
   "source": [
    "from sklearn.model_selection import train_test_split\n",
    "\n",
    "train, test = train_test_split(df, test_size=0.2)"
   ]
  },
  {
   "cell_type": "code",
   "execution_count": 31,
   "id": "7618c752-96bb-4194-b27a-f5fb7fcdee7b",
   "metadata": {},
   "outputs": [
    {
     "data": {
      "text/plain": [
       "((5875, 5), (1469, 5))"
      ]
     },
     "execution_count": 31,
     "metadata": {},
     "output_type": "execute_result"
    }
   ],
   "source": [
    "train.shape, test.shape"
   ]
  },
  {
   "cell_type": "code",
   "execution_count": 33,
   "id": "0e95b41d-d4b3-4e3e-b129-1a2b4caa4127",
   "metadata": {},
   "outputs": [],
   "source": [
    "train.to_csv(\"data-ft.train\", columns=[\"label_sentence\"], index=False, header=False)\n",
    "test.to_csv(\"data-ft.test\", columns=[\"label_sentence\"], index=False, header=False)"
   ]
  },
  {
   "cell_type": "code",
   "execution_count": 42,
   "id": "13bea136-cbf0-47b4-8029-5d7a9f26fe12",
   "metadata": {},
   "outputs": [
    {
     "name": "stderr",
     "output_type": "stream",
     "text": [
      "Read 0M words\n",
      "Number of words:  9829\n",
      "Number of labels: 2\n",
      "Progress: 100.0% words/sec/thread: 2351133 lr:  0.000000 avg.loss:  0.108969 ETA:   0h 0m 0s\n"
     ]
    },
    {
     "data": {
      "text/plain": [
       "(1469, 0.8311776718856365, 0.8311776718856365)"
      ]
     },
     "execution_count": 42,
     "metadata": {},
     "output_type": "execute_result"
    }
   ],
   "source": [
    "# training and testing\n",
    "import fasttext\n",
    "\n",
    "model = fasttext.train_supervised(input=\"data-ft.train\", lr=1.0, epoch=25, wordNgrams=2)\n",
    "model.test(\"data-ft.test\")"
   ]
  },
  {
   "cell_type": "code",
   "execution_count": 15,
   "id": "1e61a328-e43f-4b11-a5da-c6d967c1aa6d",
   "metadata": {},
   "outputs": [],
   "source": [
    "# First parameter (1469) is test size. \n",
    "# Second and third parameters are precision and recall respectively. \n",
    "# We are getting around 83% precision."
   ]
  },
  {
   "cell_type": "code",
   "execution_count": 35,
   "id": "20b4c465-bde7-496d-9bcc-eb3c2e8783a5",
   "metadata": {},
   "outputs": [
    {
     "data": {
      "text/plain": [
       "(('__label__ai',), array([0.79388857]))"
      ]
     },
     "execution_count": 35,
     "metadata": {},
     "output_type": "execute_result"
    }
   ],
   "source": [
    "model.predict(\"HTTP (Hypertext Transfer Protocol) is the foundation of data communication on the World Wide Web, facilitating the transfer of information between clients (such as web browsers) and servers.\")"
   ]
  },
  {
   "cell_type": "code",
   "execution_count": 36,
   "id": "e2784dd5-f81e-4e2b-af5f-f5224d825708",
   "metadata": {},
   "outputs": [
    {
     "data": {
      "text/plain": [
       "(('__label__human',), array([0.65982616]))"
      ]
     },
     "execution_count": 36,
     "metadata": {},
     "output_type": "execute_result"
    }
   ],
   "source": [
    "model.predict(\"HTTP means Hyper text transfer protocol\")"
   ]
  },
  {
   "cell_type": "code",
   "execution_count": 43,
   "id": "e75dc02c-8bec-4b3c-84e9-9dd9894d1ec7",
   "metadata": {},
   "outputs": [
    {
     "name": "stdout",
     "output_type": "stream",
     "text": [
      "              precision    recall  f1-score   support\n",
      "\n",
      "          ai       0.82      0.88      0.85       786\n",
      "       human       0.85      0.78      0.81       683\n",
      "\n",
      "    accuracy                           0.83      1469\n",
      "   macro avg       0.83      0.83      0.83      1469\n",
      "weighted avg       0.83      0.83      0.83      1469\n",
      "\n"
     ]
    },
    {
     "data": {
      "image/png": "[encoded data removed]",
      "text/plain": [
       "<Figure size 800x600 with 2 Axes>"
      ]
     },
     "metadata": {},
     "output_type": "display_data"
    }
   ],
   "source": [
    "from sklearn.metrics import classification_report, confusion_matrix\n",
    "import matplotlib.pyplot as plt\n",
    "import seaborn as sns\n",
    "from sklearn import metrics\n",
    "\n",
    "# Load test data\n",
    "with open(\"data-ft.test\", \"r\", encoding=\"utf-8\") as f:\n",
    "    lines = f.readlines()\n",
    "    # Extracting labels and texts from the test data\n",
    "    y_true = [line.split()[0].replace('__label__', '') for line in lines]\n",
    "    X_test = [\" \".join(line.split()[1:]) for line in lines]\n",
    "\n",
    "# Predict using the FastText model\n",
    "y_pred = [model.predict(text)[0][0].replace('__label__', '') for text in X_test]\n",
    "\n",
    "# Generate and print the classification report\n",
    "print(classification_report(y_true, y_pred))\n",
    "\n",
    "# Generate confusion matrix\n",
    "cm = confusion_matrix(y_true, y_pred)\n",
    "\n",
    "# Plot confusion matrix\n",
    "plt.figure(figsize=(8, 6))\n",
    "sns.heatmap(cm, annot=True, fmt='d', cmap='Blues', xticklabels=['human', 'ai'], yticklabels=['human', 'ai'])\n",
    "plt.title('Confusion Matrix')\n",
    "plt.xlabel('Predicted')\n",
    "plt.ylabel('True')\n",
    "plt.show()\n"
   ]
  }
 ],
 "metadata": {
  "kernelspec": {
   "display_name": "Python 3 (ipykernel)",
   "language": "python",
   "name": "python3"
  },
  "language_info": {
   "codemirror_mode": {
    "name": "ipython",
    "version": 3
   },
   "file_extension": ".py",
   "mimetype": "text/x-python",
   "name": "python",
   "nbconvert_exporter": "python",
   "pygments_lexer": "ipython3",
   "version": "3.11.5"
  }
 },
 "nbformat": 4,
 "nbformat_minor": 5
}
